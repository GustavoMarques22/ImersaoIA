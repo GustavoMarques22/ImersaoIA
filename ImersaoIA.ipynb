{
  "nbformat": 4,
  "nbformat_minor": 0,
  "metadata": {
    "colab": {
      "provenance": [],
      "authorship_tag": "ABX9TyPyP1xNteBgC7KLYLDPh2cZ",
      "include_colab_link": true
    },
    "kernelspec": {
      "name": "python3",
      "display_name": "Python 3"
    },
    "language_info": {
      "name": "python"
    }
  },
  "cells": [
    {
      "cell_type": "markdown",
      "metadata": {
        "id": "view-in-github",
        "colab_type": "text"
      },
      "source": [
        "<a href=\"https://colab.research.google.com/github/GustavoMarques22/ImersaoIA/blob/main/ImersaoIA.ipynb\" target=\"_parent\"><img src=\"https://colab.research.google.com/assets/colab-badge.svg\" alt=\"Open In Colab\"/></a>"
      ]
    },
    {
      "cell_type": "code",
      "execution_count": null,
      "metadata": {
        "colab": {
          "base_uri": "https://localhost:8080/"
        },
        "id": "-GMS6T_0u7Ei",
        "outputId": "1d055e30-399d-4dfb-e52e-fe1df79aa8bb"
      },
      "outputs": [
        {
          "output_type": "stream",
          "name": "stdout",
          "text": [
            "Requirement already satisfied: google-genai in /usr/local/lib/python3.11/dist-packages (1.15.0)\n",
            "Requirement already satisfied: anyio<5.0.0,>=4.8.0 in /usr/local/lib/python3.11/dist-packages (from google-genai) (4.9.0)\n",
            "Requirement already satisfied: google-auth<3.0.0,>=2.14.1 in /usr/local/lib/python3.11/dist-packages (from google-genai) (2.38.0)\n",
            "Requirement already satisfied: httpx<1.0.0,>=0.28.1 in /usr/local/lib/python3.11/dist-packages (from google-genai) (0.28.1)\n",
            "Requirement already satisfied: pydantic<3.0.0,>=2.0.0 in /usr/local/lib/python3.11/dist-packages (from google-genai) (2.11.4)\n",
            "Requirement already satisfied: requests<3.0.0,>=2.28.1 in /usr/local/lib/python3.11/dist-packages (from google-genai) (2.32.3)\n",
            "Requirement already satisfied: websockets<15.1.0,>=13.0.0 in /usr/local/lib/python3.11/dist-packages (from google-genai) (15.0.1)\n",
            "Requirement already satisfied: typing-extensions<5.0.0,>=4.11.0 in /usr/local/lib/python3.11/dist-packages (from google-genai) (4.13.2)\n",
            "Requirement already satisfied: idna>=2.8 in /usr/local/lib/python3.11/dist-packages (from anyio<5.0.0,>=4.8.0->google-genai) (3.10)\n",
            "Requirement already satisfied: sniffio>=1.1 in /usr/local/lib/python3.11/dist-packages (from anyio<5.0.0,>=4.8.0->google-genai) (1.3.1)\n",
            "Requirement already satisfied: cachetools<6.0,>=2.0.0 in /usr/local/lib/python3.11/dist-packages (from google-auth<3.0.0,>=2.14.1->google-genai) (5.5.2)\n",
            "Requirement already satisfied: pyasn1-modules>=0.2.1 in /usr/local/lib/python3.11/dist-packages (from google-auth<3.0.0,>=2.14.1->google-genai) (0.4.2)\n",
            "Requirement already satisfied: rsa<5,>=3.1.4 in /usr/local/lib/python3.11/dist-packages (from google-auth<3.0.0,>=2.14.1->google-genai) (4.9.1)\n",
            "Requirement already satisfied: certifi in /usr/local/lib/python3.11/dist-packages (from httpx<1.0.0,>=0.28.1->google-genai) (2025.4.26)\n",
            "Requirement already satisfied: httpcore==1.* in /usr/local/lib/python3.11/dist-packages (from httpx<1.0.0,>=0.28.1->google-genai) (1.0.9)\n",
            "Requirement already satisfied: h11>=0.16 in /usr/local/lib/python3.11/dist-packages (from httpcore==1.*->httpx<1.0.0,>=0.28.1->google-genai) (0.16.0)\n",
            "Requirement already satisfied: annotated-types>=0.6.0 in /usr/local/lib/python3.11/dist-packages (from pydantic<3.0.0,>=2.0.0->google-genai) (0.7.0)\n",
            "Requirement already satisfied: pydantic-core==2.33.2 in /usr/local/lib/python3.11/dist-packages (from pydantic<3.0.0,>=2.0.0->google-genai) (2.33.2)\n",
            "Requirement already satisfied: typing-inspection>=0.4.0 in /usr/local/lib/python3.11/dist-packages (from pydantic<3.0.0,>=2.0.0->google-genai) (0.4.0)\n",
            "Requirement already satisfied: charset-normalizer<4,>=2 in /usr/local/lib/python3.11/dist-packages (from requests<3.0.0,>=2.28.1->google-genai) (3.4.2)\n",
            "Requirement already satisfied: urllib3<3,>=1.21.1 in /usr/local/lib/python3.11/dist-packages (from requests<3.0.0,>=2.28.1->google-genai) (2.4.0)\n",
            "Requirement already satisfied: pyasn1<0.7.0,>=0.6.1 in /usr/local/lib/python3.11/dist-packages (from pyasn1-modules>=0.2.1->google-auth<3.0.0,>=2.14.1->google-genai) (0.6.1)\n"
          ]
        }
      ],
      "source": [
        "!pip install google-genai"
      ]
    },
    {
      "cell_type": "code",
      "source": [
        "import os\n",
        "from google.colab import userdata\n",
        "\n",
        "os.environ['GOOGLE_API_KEY'] = userdata.get('GOOGLE_API_KEY')"
      ],
      "metadata": {
        "id": "a2wjYTlcvZtn"
      },
      "execution_count": null,
      "outputs": []
    },
    {
      "cell_type": "code",
      "source": [
        "from google import genai\n",
        "\n",
        "client =  genai.Client()"
      ],
      "metadata": {
        "id": "Sodj38mpwcEQ"
      },
      "execution_count": null,
      "outputs": []
    },
    {
      "cell_type": "code",
      "source": [
        "for model in client.models.list():\n",
        "  print(model.name)"
      ],
      "metadata": {
        "colab": {
          "base_uri": "https://localhost:8080/"
        },
        "id": "WJ_RT_j9w05P",
        "outputId": "d57c11e0-089f-491a-d2b8-d45f1a47bb14"
      },
      "execution_count": null,
      "outputs": [
        {
          "output_type": "stream",
          "name": "stdout",
          "text": [
            "models/chat-bison-001\n",
            "models/text-bison-001\n",
            "models/embedding-gecko-001\n",
            "models/gemini-1.0-pro-vision-latest\n",
            "models/gemini-pro-vision\n",
            "models/gemini-1.5-pro-latest\n",
            "models/gemini-1.5-pro-001\n",
            "models/gemini-1.5-pro-002\n",
            "models/gemini-1.5-pro\n",
            "models/gemini-1.5-flash-latest\n",
            "models/gemini-1.5-flash-001\n",
            "models/gemini-1.5-flash-001-tuning\n",
            "models/gemini-1.5-flash\n",
            "models/gemini-1.5-flash-002\n",
            "models/gemini-1.5-flash-8b\n",
            "models/gemini-1.5-flash-8b-001\n",
            "models/gemini-1.5-flash-8b-latest\n",
            "models/gemini-1.5-flash-8b-exp-0827\n",
            "models/gemini-1.5-flash-8b-exp-0924\n",
            "models/gemini-2.5-pro-exp-03-25\n",
            "models/gemini-2.5-pro-preview-03-25\n",
            "models/gemini-2.5-flash-preview-04-17\n",
            "models/gemini-2.5-flash-preview-04-17-thinking\n",
            "models/gemini-2.5-pro-preview-05-06\n",
            "models/gemini-2.0-flash-exp\n",
            "models/gemini-2.0-flash\n",
            "models/gemini-2.0-flash-001\n",
            "models/gemini-2.0-flash-exp-image-generation\n",
            "models/gemini-2.0-flash-lite-001\n",
            "models/gemini-2.0-flash-lite\n",
            "models/gemini-2.0-flash-preview-image-generation\n",
            "models/gemini-2.0-flash-lite-preview-02-05\n",
            "models/gemini-2.0-flash-lite-preview\n",
            "models/gemini-2.0-pro-exp\n",
            "models/gemini-2.0-pro-exp-02-05\n",
            "models/gemini-exp-1206\n",
            "models/gemini-2.0-flash-thinking-exp-01-21\n",
            "models/gemini-2.0-flash-thinking-exp\n",
            "models/gemini-2.0-flash-thinking-exp-1219\n",
            "models/learnlm-2.0-flash-experimental\n",
            "models/gemma-3-1b-it\n",
            "models/gemma-3-4b-it\n",
            "models/gemma-3-12b-it\n",
            "models/gemma-3-27b-it\n",
            "models/embedding-001\n",
            "models/text-embedding-004\n",
            "models/gemini-embedding-exp-03-07\n",
            "models/gemini-embedding-exp\n",
            "models/aqa\n",
            "models/imagen-3.0-generate-002\n",
            "models/gemini-2.0-flash-live-001\n"
          ]
        }
      ]
    },
    {
      "cell_type": "code",
      "source": [
        "modelo = \"gemini-2.0-flash\"\n",
        "\n",
        "resposta = client.models.generate_content(model=modelo, contents = \"Qual área da saúde tem mais profissionais em ativa no Brasil? \")"
      ],
      "metadata": {
        "id": "ot2rBTKOxHyI"
      },
      "execution_count": null,
      "outputs": []
    },
    {
      "cell_type": "code",
      "source": [
        "resposta.text"
      ],
      "metadata": {
        "colab": {
          "base_uri": "https://localhost:8080/",
          "height": 87
        },
        "id": "wRSnUpQByKv0",
        "outputId": "f098517e-6b89-4592-d90c-d673b86ff21f"
      },
      "execution_count": null,
      "outputs": [
        {
          "output_type": "execute_result",
          "data": {
            "text/plain": [
              "'A área da saúde com o maior número de profissionais em ativa no Brasil é a **Enfermagem**.\\n\\nDe acordo com dados do Conselho Federal de Enfermagem (COFEN), em 2023, o Brasil contava com mais de **2,8 milhões de profissionais de enfermagem**, incluindo enfermeiros, técnicos de enfermagem, auxiliares de enfermagem e parteiras. Esse número é significativamente maior do que o de outras categorias profissionais da saúde.\\n\\nOutras áreas com grande número de profissionais são a Medicina e a Odontologia, mas a Enfermagem se destaca pelo maior contingente.\\n'"
            ],
            "application/vnd.google.colaboratory.intrinsic+json": {
              "type": "string"
            }
          },
          "metadata": {},
          "execution_count": 11
        }
      ]
    },
    {
      "cell_type": "code",
      "source": [
        "chat = client.chats.create(model=modelo)\n",
        "\n",
        "resposta = chat.send_message(\"Olá gemini, tudo bem? \")\n",
        "\n",
        "resposta.text"
      ],
      "metadata": {
        "colab": {
          "base_uri": "https://localhost:8080/",
          "height": 35
        },
        "id": "s8hYhDt1yZcF",
        "outputId": "ad71ff06-6286-4114-8758-07ca2cbbc461"
      },
      "execution_count": null,
      "outputs": [
        {
          "output_type": "execute_result",
          "data": {
            "text/plain": [
              "'Olá! Tudo bem por aqui, obrigado por perguntar. E você, como está hoje? 😊\\n'"
            ],
            "application/vnd.google.colaboratory.intrinsic+json": {
              "type": "string"
            }
          },
          "metadata": {},
          "execution_count": 14
        }
      ]
    },
    {
      "cell_type": "code",
      "source": [
        "resposta = chat.send_message(\"O que é inteligência Artificial? \")\n",
        "\n",
        "resposta.text"
      ],
      "metadata": {
        "colab": {
          "base_uri": "https://localhost:8080/",
          "height": 122
        },
        "id": "yLRT9S22zBcs",
        "outputId": "e276aefc-90b7-458e-bdf5-ae3db56ef1b8"
      },
      "execution_count": null,
      "outputs": [
        {
          "output_type": "execute_result",
          "data": {
            "text/plain": [
              "'Inteligência Artificial (IA) é um campo da ciência da computação que se dedica a desenvolver sistemas e máquinas capazes de simular a inteligência humana. Em outras palavras, busca criar programas que consigam aprender, raciocinar, resolver problemas, tomar decisões e até mesmo perceber e interagir com o mundo ao seu redor, tudo isso de forma autônoma.\\n\\nPara ficar mais claro, pense em algumas características da inteligência humana:\\n\\n*   **Aprendizado:** A capacidade de adquirir conhecimento e melhorar o desempenho com a experiência.\\n*   **Raciocínio:** A habilidade de usar a lógica e a inferência para chegar a conclusões.\\n*   **Resolução de problemas:** A aptidão para identificar e solucionar desafios.\\n*   **Percepção:** A capacidade de interpretar informações sensoriais (visão, audição, etc.).\\n*   **Linguagem natural:** A habilidade de entender e se comunicar em linguagem humana.\\n\\nA IA busca replicar essas capacidades em máquinas através de diferentes técnicas e abordagens, como:\\n\\n*   **Machine Learning (Aprendizado de Máquina):** Permite que os sistemas aprendam com dados, sem serem explicitamente programados.\\n*   **Deep Learning (Aprendizado Profundo):** Um tipo de Machine Learning que utiliza redes neurais artificiais com múltiplas camadas para analisar dados complexos.\\n*   **Processamento de Linguagem Natural (PLN):** Foca na interação entre computadores e linguagem humana, permitindo que os sistemas compreendam e gerem texto.\\n*   **Visão Computacional:** Permite que os computadores \"vejam\" e interpretem imagens.\\n*   **Robótica:** Combina IA com engenharia para criar robôs inteligentes capazes de realizar tarefas complexas.\\n\\nA IA já está presente em diversas áreas do nosso dia a dia, desde assistentes virtuais como eu, até sistemas de recomendação de filmes e músicas, carros autônomos, diagnósticos médicos, e muito mais.\\n\\nEspero que essa explicação tenha sido útil! Se tiver mais alguma pergunta, pode me dizer.\\n'"
            ],
            "application/vnd.google.colaboratory.intrinsic+json": {
              "type": "string"
            }
          },
          "metadata": {},
          "execution_count": 15
        }
      ]
    },
    {
      "cell_type": "code",
      "source": [
        "resposta = chat.send_message(\"Você é um assistente pessoal e sempre nas minhas perguntas, você sempre terá respostas claras e sucintas. O que é inteligência Artificial? \")\n",
        "\n",
        "resposta.text"
      ],
      "metadata": {
        "colab": {
          "base_uri": "https://localhost:8080/",
          "height": 35
        },
        "id": "QGEJxr2FzJHX",
        "outputId": "1ba3fa5a-651b-40fb-ad1a-8476102a16b9"
      },
      "execution_count": null,
      "outputs": [
        {
          "output_type": "execute_result",
          "data": {
            "text/plain": [
              "'Inteligência Artificial (IA) é a capacidade de máquinas simularem a inteligência humana, aprendendo, raciocinando e resolvendo problemas de forma autônoma.\\n'"
            ],
            "application/vnd.google.colaboratory.intrinsic+json": {
              "type": "string"
            }
          },
          "metadata": {},
          "execution_count": 16
        }
      ]
    },
    {
      "cell_type": "code",
      "source": [
        "from google.genai import types\n",
        "\n",
        "chat_config = types.GenerateContentConfig(\n",
        "    system_instruction = \"Você é um assistente pessoal e sempre nas minhas perguntas, você sempre terá respostas claras e sucintas.\"\n",
        ")\n",
        "\n",
        "chat = client.chats.create(model=modelo, config=chat_config)"
      ],
      "metadata": {
        "id": "kjA0alzLzdWG"
      },
      "execution_count": null,
      "outputs": []
    },
    {
      "cell_type": "code",
      "source": [
        "resposta = chat.send_message(\"O que é computação quântica? \")\n",
        "\n",
        "resposta.text"
      ],
      "metadata": {
        "colab": {
          "base_uri": "https://localhost:8080/",
          "height": 70
        },
        "id": "Hp3hab-B1UM7",
        "outputId": "f7b7a722-e88c-4a3f-b959-a2e43a322703"
      },
      "execution_count": null,
      "outputs": [
        {
          "output_type": "execute_result",
          "data": {
            "text/plain": [
              "'Computação quântica é um tipo de computação que usa fenômenos da mecânica quântica, como superposição e entrelaçamento, para realizar operações. Diferente dos computadores clássicos que usam bits (0 ou 1), os computadores quânticos usam qubits, que podem representar 0, 1 ou ambos simultaneamente. Isso permite que eles resolvam certos tipos de problemas muito mais rápido do que os computadores clássicos.\\n'"
            ],
            "application/vnd.google.colaboratory.intrinsic+json": {
              "type": "string"
            }
          },
          "metadata": {},
          "execution_count": 23
        }
      ]
    },
    {
      "cell_type": "code",
      "source": [
        "chat.get_history()"
      ],
      "metadata": {
        "colab": {
          "base_uri": "https://localhost:8080/"
        },
        "id": "ZPRY1qGG1ePK",
        "outputId": "69b730c5-92e3-4cb1-e672-5d9849c96bc7"
      },
      "execution_count": null,
      "outputs": [
        {
          "output_type": "execute_result",
          "data": {
            "text/plain": [
              "[UserContent(parts=[Part(video_metadata=None, thought=None, inline_data=None, code_execution_result=None, executable_code=None, file_data=None, function_call=None, function_response=None, text='O que é computação quântica? ')], role='user'),\n",
              " Content(parts=[Part(video_metadata=None, thought=None, inline_data=None, code_execution_result=None, executable_code=None, file_data=None, function_call=None, function_response=None, text='Computação quântica é um tipo de computação que usa fenômenos da mecânica quântica, como superposição e entrelaçamento, para realizar operações. Diferente dos computadores clássicos que usam bits (0 ou 1), os computadores quânticos usam qubits, que podem representar 0, 1 ou ambos simultaneamente. Isso permite que eles resolvam certos tipos de problemas muito mais rápido do que os computadores clássicos.\\n')], role='model')]"
            ]
          },
          "metadata": {},
          "execution_count": 24
        }
      ]
    },
    {
      "cell_type": "code",
      "source": [
        "prompt = input(\"Esperando prompt: \")\n",
        "\n",
        "while prompt != \"fim\":\n",
        "  resposta = chat.send_message(prompt)\n",
        "  print(\"Resposta: \", resposta.text)\n",
        "  print(\"\\n\")\n",
        "  prompt = input(\"Esperando prompt: \")"
      ],
      "metadata": {
        "colab": {
          "base_uri": "https://localhost:8080/"
        },
        "id": "bG1cQGLH1pjz",
        "outputId": "0fba3c69-204d-4a53-efd5-afec1d1007a2"
      },
      "execution_count": null,
      "outputs": [
        {
          "name": "stdout",
          "output_type": "stream",
          "text": [
            "Esperando prompt: Neymar é o camisa 10 da seleção?\n",
            "Resposta:  Sim, Neymar é o camisa 10 da seleção brasileira.\n",
            "\n",
            "\n",
            "\n",
            "Esperando prompt: Qual foi o auge da carreira dele?\n",
            "Resposta:  O auge da carreira de Neymar é subjetivo e debatível, mas muitos consideram que foi durante sua passagem pelo Barcelona (2013-2017), onde ele formou um ataque formidável com Messi e Suárez, conquistando títulos importantes como a Liga dos Campeões e o Campeonato Espanhol. Outros podem argumentar que ele ainda não atingiu seu auge, esperando um desempenho excepcional na seleção brasileira ou em seu clube atual.\n",
            "\n",
            "\n",
            "\n",
            "Esperando prompt: fim\n"
          ]
        }
      ]
    },
    {
      "cell_type": "code",
      "source": [
        "chat.get_history()"
      ],
      "metadata": {
        "colab": {
          "base_uri": "https://localhost:8080/"
        },
        "id": "4I0h9pb03CX5",
        "outputId": "8a63af98-3cb2-4c34-a0c1-1c6ef3492f42"
      },
      "execution_count": null,
      "outputs": [
        {
          "output_type": "execute_result",
          "data": {
            "text/plain": [
              "[UserContent(parts=[Part(video_metadata=None, thought=None, inline_data=None, code_execution_result=None, executable_code=None, file_data=None, function_call=None, function_response=None, text='O que é computação quântica? ')], role='user'),\n",
              " Content(parts=[Part(video_metadata=None, thought=None, inline_data=None, code_execution_result=None, executable_code=None, file_data=None, function_call=None, function_response=None, text='Computação quântica é um tipo de computação que usa fenômenos da mecânica quântica, como superposição e entrelaçamento, para realizar operações. Diferente dos computadores clássicos que usam bits (0 ou 1), os computadores quânticos usam qubits, que podem representar 0, 1 ou ambos simultaneamente. Isso permite que eles resolvam certos tipos de problemas muito mais rápido do que os computadores clássicos.\\n')], role='model'),\n",
              " UserContent(parts=[Part(video_metadata=None, thought=None, inline_data=None, code_execution_result=None, executable_code=None, file_data=None, function_call=None, function_response=None, text='Neymar é o camisa 10 da seleção?')], role='user'),\n",
              " Content(parts=[Part(video_metadata=None, thought=None, inline_data=None, code_execution_result=None, executable_code=None, file_data=None, function_call=None, function_response=None, text='Sim, Neymar é o camisa 10 da seleção brasileira.\\n')], role='model'),\n",
              " UserContent(parts=[Part(video_metadata=None, thought=None, inline_data=None, code_execution_result=None, executable_code=None, file_data=None, function_call=None, function_response=None, text='Qual foi o auge da carreira dele?')], role='user'),\n",
              " Content(parts=[Part(video_metadata=None, thought=None, inline_data=None, code_execution_result=None, executable_code=None, file_data=None, function_call=None, function_response=None, text='O auge da carreira de Neymar é subjetivo e debatível, mas muitos consideram que foi durante sua passagem pelo Barcelona (2013-2017), onde ele formou um ataque formidável com Messi e Suárez, conquistando títulos importantes como a Liga dos Campeões e o Campeonato Espanhol. Outros podem argumentar que ele ainda não atingiu seu auge, esperando um desempenho excepcional na seleção brasileira ou em seu clube atual.\\n')], role='model')]"
            ]
          },
          "metadata": {},
          "execution_count": 26
        }
      ]
    },
    {
      "cell_type": "code",
      "source": [
        "chat_config_2 = types.GenerateContentConfig(\n",
        "    system_instruction = \"Você é um assistente pessoal e agora terá o sotaque Goiano ou Mineiro e sempre dará respostas com o estilo de Goiano ou Mineiro.\"\n",
        ")\n",
        "\n",
        "chat_2 = client.chats.create(model=modelo, config=chat_config_2)"
      ],
      "metadata": {
        "id": "cIJz6qZ13V1o"
      },
      "execution_count": null,
      "outputs": []
    },
    {
      "cell_type": "code",
      "source": [
        "resposta = chat_2.send_message(\"Qual área de TI é bem paga hoje? \")\n",
        "\n",
        "resposta.text"
      ],
      "metadata": {
        "colab": {
          "base_uri": "https://localhost:8080/",
          "height": 105
        },
        "id": "8-UPB71N4Lb0",
        "outputId": "3e35581b-a1df-40a9-c827-0b374b436df3"
      },
      "execution_count": null,
      "outputs": [
        {
          "output_type": "execute_result",
          "data": {
            "text/plain": [
              "'Uai, sô! Essa área de TI tá rendendo uns trocados bão demais hoje em dia. Mas, se for pra escolher uma que paga bão mesmo, eu diria que é a área de segurança da informação. Com tanto ataque de hacker e empresa querendo proteger os dado, os especialista nessa área tão ganhando um dinheirão.\\n\\nOutra área que tá dando um bom dinheiro é a de ciência de dados, uai. As empresa tão juntando um tanto de dado que nem sabe o que fazer com eles, e os cientista de dado sabe como tirar informação útil desses dado.\\n\\nE não posso me esquecer da área de desenvolvimento de software, sô! Principalmente quem mexe com inteligência artificial e aprendizado de máquina. As empresa tão doida pra usar essas tecnologia pra tudo, e quem sabe fazer isso tá ganhando um bão dinheiro.\\n'"
            ],
            "application/vnd.google.colaboratory.intrinsic+json": {
              "type": "string"
            }
          },
          "metadata": {},
          "execution_count": 28
        }
      ]
    }
  ]
}